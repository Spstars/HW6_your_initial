{
 "cells": [
  {
   "attachments": {},
   "cell_type": "markdown",
   "metadata": {},
   "source": [
    "주사위 시뮬레이션결과를 시각화 하고 분석하시오.\n",
    "– 1~6 사이의 랜덤 숫자를 만들어, 다음 횟수만큼 시행하시오.\n",
    "– 100번 시행, 1,000번 시행, 10,000번 시행, 100,000번 시행\n",
    "– 시행결과를 하나의 csv 파일로 저장하시오. (저장 format 자유)\n",
    "– 각 시행별 데이터를 읽어와 1~6 숫자에 대해 히스토그램으로 각각 시각화 하시오. (그래프\n",
    "총 4개)\n",
    "– 위 그래프들을 통해 주사위 시뮬레이션 결과에 대한 분석결과를 설명하시오. (문제에 대한\n",
    "답)\n",
    "– 단, 그래프와 출력 결과의 Accuracy and Quality로 평가."
   ]
  },
  {
   "cell_type": "code",
   "execution_count": 6,
   "metadata": {},
   "outputs": [],
   "source": [
    "import csv\n",
    "import random\n",
    "def main():\n",
    "    # 1,6까지 다이스를 굴리고, 범위밖의 것들에는 0을 부여한다.\n",
    "    file=\"q2.csv\"\n",
    "    #재현 가능을 위해서 seed를 줌\n",
    "    random.seed(100)\n",
    "    dice100=[random.randint(1,6) if i<100  else 0 for i in range(100000) ]\n",
    "    dice1000=[random.randint(1,6) if i<1000  else 0 for i in range(100000) ]\n",
    "    dice10000=[random.randint(1,6) if i<10000  else 0 for i in range(100000) ]\n",
    "    dice100000=[random.randint(1,6) for _ in range(100000) ]\n",
    "\n",
    "    stackDice=[\"{},{},{},{}\\n\".format(dice100[i],dice1000[i],dice10000[i],dice100000[i]) for i in range(100000)]\n",
    "    f=open(file,'w',encoding='cp949')\n",
    "    f.write(\"dice 100,dice 1000,dice 10000,dice 100000\\n\")\n",
    "    for i in range(100000):\n",
    "        f.write(stackDice[i])\n",
    "    f.close()\n",
    "\n",
    "\n",
    "\n",
    "if __name__ == \"__main__\":\n",
    "    #csv 파일 저장까지\n",
    "    main()"
   ]
  },
  {
   "cell_type": "code",
   "execution_count": 2,
   "metadata": {},
   "outputs": [
    {
     "data": {
      "text/plain": [
       "1.707825127659933"
      ]
     },
     "execution_count": 2,
     "metadata": {},
     "output_type": "execute_result"
    }
   ],
   "source": [
    "import numpy\n",
    "a=[1,2,3,4,5,6]\n",
    "numpy.std(a)"
   ]
  },
  {
   "cell_type": "code",
   "execution_count": 3,
   "metadata": {},
   "outputs": [
    {
     "name": "stdout",
     "output_type": "stream",
     "text": [
      "주사위의 평균 : 3.5, 표준편차 , 1.707825127659933\n",
      "dice 100 평균 : 3.58, 표준편차 : 1.668412419037931\n",
      "dice 1000 평균 : 3.565, 표준편차 : 1.7713765833385062\n",
      "dice 10000 평균 : 3.5187, 표준편차 : 1.7085813735377078\n",
      "dice 100000 평균 : 3.50937, 표준편차 : 1.7051604625665\n"
     ]
    },
    {
     "data": {
      "image/png": "[encoded data removed]",
      "text/plain": [
       "<Figure size 640x480 with 4 Axes>"
      ]
     },
     "metadata": {},
     "output_type": "display_data"
    }
   ],
   "source": [
    "import csv\n",
    "import matplotlib.pyplot as plt\n",
    "import numpy\n",
    "\n",
    "def main():\n",
    "    # 1,6까지 다이스를 굴리고, 범위밖의 것들에는 0을 부여한다.\n",
    "    file=\"q2.csv\"\n",
    "\n",
    "    f=open(file,'r',encoding='cp949')\n",
    "    data=csv.reader(f)\n",
    "    head=next(data)\n",
    "    stackDice=[]\n",
    "    for d in data:\n",
    "        stackDice.append(d)\n",
    "    f.close()\n",
    "    dice100=sorted([int(stackDice[i][0])  for i in range(100) ])\n",
    "    dice1000=sorted([int(stackDice[i][1])  for i in range(1000) ])\n",
    "    dice10000=sorted([int(stackDice[i][2])  for i in range(10000) ])\n",
    "    dice100000=sorted([int(stackDice[i][3])  for i in range(100000) ])\n",
    "\n",
    "    fig=plt.figure()\n",
    "\n",
    "    plt.rc(\"font\",family=\"Malgun Gothic\")\n",
    "    plt.rcParams['axes.unicode_minus']=False    \n",
    "    ax1=fig.add_subplot(2,2,1)\n",
    "    ax2=fig.add_subplot(2,2,2)\n",
    "    ax3=fig.add_subplot(2,2,3)\n",
    "    ax4=fig.add_subplot(2,2,4)\n",
    "\n",
    "    fig.subplots_adjust(wspace=0.5,hspace=0.5)\n",
    "\n",
    "    dice16=[1,2,3,4,5,6]\n",
    "    print(\"주사위의 평균 : {}, 표준편차 , {}\".format(numpy.mean(dice16),numpy.std(dice16)))\n",
    "    \n",
    "    ax1.hist(dice100,bins=30)\n",
    "    print(\"dice 100 평균 : {}, 표준편차 : {}\".format(numpy.mean(dice100),numpy.std(dice100)))\n",
    "    ax1.set_title(\"dice100\")\n",
    "    ax1.set_xlabel(\"주사위 값\")\n",
    "    ax1.set_ylabel(\"빈도 수\")\n",
    "\n",
    "    ax2.hist(dice1000,bins=30)\n",
    "    print(\"dice 1000 평균 : {}, 표준편차 : {}\".format(numpy.mean(dice1000),numpy.std(dice1000)))\n",
    "    ax2.set_title(\"dice1000\")\n",
    "    ax2.set_xlabel(\"주사위 값\")\n",
    "    ax2.set_ylabel(\"빈도 수\")\n",
    "\n",
    "    ax3.hist(dice10000,bins=30)\n",
    "    print(\"dice 10000 평균 : {}, 표준편차 : {}\".format(numpy.mean(dice10000),numpy.std(dice10000)))\n",
    "    ax3.set_title(\"dice10000\")\n",
    "    ax3.set_xlabel(\"주사위 값\")    \n",
    "    ax3.set_ylabel(\"빈도 수\")\n",
    "\n",
    "    ax4.hist(dice100000,bins=30)\n",
    "    print(\"dice 100000 평균 : {}, 표준편차 : {}\".format(numpy.mean(dice100000),numpy.std(dice100000)))\n",
    "    ax4.set_title(\"dice100000\")\n",
    "    ax4.set_xlabel(\"주사위 값\")\n",
    "    ax4.set_ylabel(\"빈도 수\")\n",
    "    plt.show()\n",
    "\n",
    "if __name__ == \"__main__\":\n",
    "    #csv 파일 저장까지\n",
    "    main()\n"
   ]
  },
  {
   "attachments": {},
   "cell_type": "markdown",
   "metadata": {},
   "source": [
    "평균이 점점 3.5에 가까워지며, 기댓값에 근접하고 있다. ((1+2+3+4+5+6)/6)\n"
   ]
  }
 ],
 "metadata": {
  "kernelspec": {
   "display_name": "base",
   "language": "python",
   "name": "python3"
  },
  "language_info": {
   "codemirror_mode": {
    "name": "ipython",
    "version": 3
   },
   "file_extension": ".py",
   "mimetype": "text/x-python",
   "name": "python",
   "nbconvert_exporter": "python",
   "pygments_lexer": "ipython3",
   "version": "3.9.13"
  },
  "orig_nbformat": 4
 },
 "nbformat": 4,
 "nbformat_minor": 2
}
