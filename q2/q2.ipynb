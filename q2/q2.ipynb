{
 "cells": [
  {
   "cell_type": "code",
   "execution_count": 1,
   "metadata": {},
   "outputs": [
    {
     "name": "stdout",
     "output_type": "stream",
     "text": [
      "*** Annual Temperature Report for Seoul in 2022***\n",
      "\n",
      "Average Temperature : 13.26 Celsius\n",
      "\n",
      "Average Minimum Temperature : 9.21 Celsius\n",
      "\n",
      "Average Maximun Temperature : 18.05 Celsius\n"
     ]
    }
   ],
   "source": [
    "import csv\n",
    "\n",
    "def main():\n",
    "#need to be changed\n",
    "    file=\"C:\\\\Users\\\\gijin\\\\HW5_your_initial\\\\2022_Seoul_Temp.csv\"\n",
    "    f=open(file,'r',encoding='cp949')\n",
    "    data=csv.reader(f,delimiter=\",\")\n",
    "\n",
    "    head=next(data)\n",
    "    temperature=[]\n",
    "    low_tem=[]\n",
    "    high_tem=[]\n",
    "\n",
    "    for d in data:\n",
    "        if d[2] != \"\" and d[3] != \"\" and d[4] != \"\" :\n",
    "            temperature.append(float(d[2]))\n",
    "            low_tem.append(float(d[3]))\n",
    "            high_tem.append(float(d[4]))\n",
    "        # else:\n",
    "        #     print(\"ERR\")\n",
    "    f.close()\n",
    "    print(\"*** Annual Temperature Report for Seoul in 2022***\")\n",
    "    print()\n",
    "    # print(len(temperature),len(low_tem),len(high_tem),)\n",
    "    avg_tem=round(sum(temperature)/len(temperature),2)\n",
    "    low_temp=round(sum(low_tem)/len(low_tem),2)\n",
    "    high_temp=round(sum(high_tem)/len(high_tem),2)\n",
    "    print(\"Average Temperature : {:.2f} Celsius\".format(avg_tem))\n",
    "    print()\n",
    "    print(\"Average Minimum Temperature : {:.2f} Celsius\".format(low_temp))\n",
    "    print()\n",
    "    print(\"Average Maximun Temperature : {:.2f} Celsius\".format(high_temp))\n",
    "\n",
    "if __name__ == \"__main__\":\n",
    "    main()"
   ]
  }
 ],
 "metadata": {
  "kernelspec": {
   "display_name": "base",
   "language": "python",
   "name": "python3"
  },
  "language_info": {
   "codemirror_mode": {
    "name": "ipython",
    "version": 3
   },
   "file_extension": ".py",
   "mimetype": "text/x-python",
   "name": "python",
   "nbconvert_exporter": "python",
   "pygments_lexer": "ipython3",
   "version": "3.8.5"
  },
  "orig_nbformat": 4
 },
 "nbformat": 4,
 "nbformat_minor": 2
}
